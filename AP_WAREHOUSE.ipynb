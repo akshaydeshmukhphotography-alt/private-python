{
 "metadata": {
  "kernelspec": {
   "display_name": "Streamlit Notebook",
   "name": "streamlit"
  },
  "lastEditStatus": {
   "notebookId": "27miiqmlg67znb4u5a75",
   "authorId": "284297234532",
   "authorName": "APRODDUTOOR",
   "authorEmail": "ashwin.proddutoor@snowflake.com",
   "sessionId": "0ae9196c-9cae-4697-8d62-46c83a8bbecb",
   "lastEditTime": 1752591521181
  }
 },
 "nbformat_minor": 5,
 "nbformat": 4,
 "cells": [
  {
   "cell_type": "code",
   "id": "3775908f-ca36-4846-8f38-5adca39217f2",
   "metadata": {
    "language": "sql",
    "name": "cell1"
   },
   "source": "\nshow warehouses   ;\n",
   "execution_count": null,
   "outputs": []
  }
 ]
}